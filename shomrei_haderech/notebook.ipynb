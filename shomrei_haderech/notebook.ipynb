{
 "cells": [
  {
   "cell_type": "code",
   "execution_count": null,
   "outputs": [],
   "source": [
    "from pathlib import Path\n",
    "import pandas as pd\n",
    "import httpx\n",
    "from typing import Optional\n",
    "import asyncio"
   ],
   "metadata": {
    "collapsed": false,
    "pycharm": {
     "name": "#%%\n"
    }
   }
  },
  {
   "cell_type": "code",
   "execution_count": null,
   "outputs": [],
   "source": [
    "GEOCODING_API_URL = 'https://maps.googleapis.com/maps/api/geocode/json'"
   ],
   "metadata": {
    "collapsed": false,
    "pycharm": {
     "name": "#%%\n"
    }
   }
  },
  {
   "cell_type": "code",
   "execution_count": null,
   "outputs": [],
   "source": [
    "ROADS_URL = 'https://roads.googleapis.com/v1/nearestRoads'"
   ],
   "metadata": {
    "collapsed": false,
    "pycharm": {
     "name": "#%%\n"
    }
   }
  },
  {
   "cell_type": "code",
   "execution_count": null,
   "outputs": [],
   "source": [
    "GEOCODING_API_KEY = 'FROM_ENV_VARIABLE'"
   ],
   "metadata": {
    "collapsed": false,
    "pycharm": {
     "name": "#%%\n"
    }
   }
  },
  {
   "cell_type": "code",
   "execution_count": null,
   "outputs": [],
   "source": [
    "async def get_places(api_url: str, api_key: str, place_id: Optional[str]) -> Optional[list]:\n",
    "    if place_id:\n",
    "        response = httpx.get(url=api_url, params={\n",
    "            'place_id': place_id,\n",
    "            'key': api_key\n",
    "        })\n",
    "        return response.json().get('results')\n",
    "    return None"
   ],
   "metadata": {
    "collapsed": false,
    "pycharm": {
     "name": "#%%\n"
    }
   }
  },
  {
   "cell_type": "code",
   "execution_count": null,
   "outputs": [],
   "source": [
    "async def get_nearest_roads(url: str, api_key: str, points: str) -> Optional[list]:\n",
    "    response = httpx.get(url=url, params={\n",
    "        'points': points,\n",
    "        'key': api_key\n",
    "    })\n",
    "    return response.json().get('snappedPoints')"
   ],
   "metadata": {
    "collapsed": false,
    "pycharm": {
     "name": "#%%\n"
    }
   }
  },
  {
   "cell_type": "code",
   "execution_count": null,
   "outputs": [],
   "source": [
    "async def get_routes_for_places(place_id: str, places_url: str, key: str) -> Optional[list]:\n",
    "    if places := await get_places(api_url=places_url, api_key=key, place_id=place_id):\n",
    "        total_routes = []\n",
    "        for place in places:\n",
    "            if address_components := place['address_components']:\n",
    "                if routes := [addr_comp for addr_comp in address_components if 'route' in addr_comp['types']]:\n",
    "                    total_routes = total_routes + [route.get('short_name') for route in routes\n",
    "                                                   if route.get('short_name')]\n",
    "        return list(set(total_routes))\n",
    "    return None"
   ],
   "metadata": {
    "collapsed": false,
    "pycharm": {
     "name": "#%%\n"
    }
   }
  },
  {
   "cell_type": "code",
   "execution_count": null,
   "outputs": [],
   "source": [
    "async def get_routes_for_point(point: Optional[str], roads_url: str, places_url: str, key: str) -> Optional[str]:\n",
    "    if point:\n",
    "        if roads := await get_nearest_roads(url=roads_url, api_key=key, points=point):\n",
    "            if roads_with_place_id := [road for road in roads if road.get('placeId')]:\n",
    "                routes = await get_routes_for_places(place_id=roads_with_place_id[0].get('placeId'),\n",
    "                                                                      places_url=places_url,\n",
    "                                                                      key=key)\n",
    "                return ','.join(list(set([route for route in routes if route])))\n",
    "    return None"
   ],
   "metadata": {
    "collapsed": false,
    "pycharm": {
     "name": "#%%\n"
    }
   }
  },
  {
   "cell_type": "code",
   "execution_count": null,
   "outputs": [],
   "source": [
    "COLUMNS_NAMES_MAPPING = {\n",
    "    'מזהה': 'GUID',\n",
    "    'תאריך דיווח': 'REPORT DATE',\n",
    "    'סטטוס': 'STATUS',\n",
    "    'סוג עבירה': 'VIOLATION TYPE',\n",
    "    'מיקום': 'LOCATION',\n",
    "    'סוג רכב': 'VEHICLE TYPE',\n",
    "    'סוג לוחית רישוי': 'LICENSE PLATE TYPE',\n",
    "    'טופס ערוך - עיר': 'CITY',\n",
    "    'נ״צ ערוך': 'POINT'\n",
    "}"
   ],
   "metadata": {
    "collapsed": false,
    "pycharm": {
     "name": "#%%\n"
    }
   }
  },
  {
   "cell_type": "code",
   "execution_count": null,
   "outputs": [],
   "source": [
    "file_path = Path.cwd() / 'reports.xlsx'"
   ],
   "metadata": {
    "collapsed": false,
    "pycharm": {
     "name": "#%%\n"
    }
   }
  },
  {
   "cell_type": "code",
   "execution_count": null,
   "outputs": [],
   "source": [
    "file_path"
   ],
   "metadata": {
    "collapsed": false,
    "pycharm": {
     "name": "#%%\n"
    }
   }
  },
  {
   "cell_type": "code",
   "execution_count": null,
   "outputs": [],
   "source": [
    "raw_df = pd.read_excel(file_path)"
   ],
   "metadata": {
    "collapsed": false,
    "pycharm": {
     "name": "#%%\n"
    }
   }
  },
  {
   "cell_type": "code",
   "execution_count": null,
   "outputs": [],
   "source": [
    "raw_df.head(5)"
   ],
   "metadata": {
    "collapsed": false,
    "pycharm": {
     "name": "#%%\n"
    }
   }
  },
  {
   "cell_type": "code",
   "execution_count": null,
   "outputs": [],
   "source": [
    "raw_df.shape"
   ],
   "metadata": {
    "collapsed": false,
    "pycharm": {
     "name": "#%%\n"
    }
   }
  },
  {
   "cell_type": "code",
   "execution_count": null,
   "outputs": [],
   "source": [
    "df = raw_df.copy(deep=True)"
   ],
   "metadata": {
    "collapsed": false,
    "pycharm": {
     "name": "#%%\n"
    }
   }
  },
  {
   "cell_type": "code",
   "execution_count": null,
   "outputs": [],
   "source": [
    "df.rename(columns=COLUMNS_NAMES_MAPPING, inplace=True)"
   ],
   "metadata": {
    "collapsed": false,
    "pycharm": {
     "name": "#%%\n"
    }
   }
  },
  {
   "cell_type": "code",
   "execution_count": null,
   "outputs": [],
   "source": [
    "df"
   ],
   "metadata": {
    "collapsed": false,
    "pycharm": {
     "name": "#%%\n"
    }
   }
  },
  {
   "cell_type": "code",
   "execution_count": null,
   "outputs": [],
   "source": [
    "first_ten_df = df.iloc[:10]"
   ],
   "metadata": {
    "collapsed": false,
    "pycharm": {
     "name": "#%%\n"
    }
   }
  },
  {
   "cell_type": "code",
   "execution_count": null,
   "outputs": [],
   "source": [
    "first_ten_df"
   ],
   "metadata": {
    "collapsed": false,
    "pycharm": {
     "name": "#%%\n"
    }
   }
  },
  {
   "cell_type": "code",
   "execution_count": null,
   "outputs": [],
   "source": [
    "first_ten_df['ROUTE'] = await asyncio.gather(*[\n",
    "    get_routes_for_point(point=point, roads_url=ROADS_URL, places_url=GEOCODING_API_URL, key=GEOCODING_API_KEY)\n",
    "    for point in first_ten_df['POINT']\n",
    "])"
   ],
   "metadata": {
    "collapsed": false,
    "pycharm": {
     "name": "#%%\n"
    }
   }
  },
  {
   "cell_type": "code",
   "execution_count": null,
   "outputs": [],
   "source": [
    "first_ten_df[['LOCATION', 'ROUTE']]"
   ],
   "metadata": {
    "collapsed": false,
    "pycharm": {
     "name": "#%%\n"
    }
   }
  },
  {
   "cell_type": "code",
   "execution_count": null,
   "outputs": [],
   "source": [
    "road_in_text = df[df['LOCATION'].str.contains('90')]"
   ],
   "metadata": {
    "collapsed": false,
    "pycharm": {
     "name": "#%%\n"
    }
   }
  },
  {
   "cell_type": "code",
   "execution_count": null,
   "outputs": [],
   "source": [
    "first_ten_route_in_text = road_in_text.iloc[:10]"
   ],
   "metadata": {
    "collapsed": false,
    "pycharm": {
     "name": "#%%\n"
    }
   }
  },
  {
   "cell_type": "code",
   "execution_count": null,
   "outputs": [],
   "source": [
    "first_ten_route_in_text"
   ],
   "metadata": {
    "collapsed": false,
    "pycharm": {
     "name": "#%%\n"
    }
   }
  },
  {
   "cell_type": "code",
   "execution_count": null,
   "outputs": [],
   "source": [
    "first_ten_route_in_text"
   ],
   "metadata": {
    "collapsed": false,
    "pycharm": {
     "name": "#%%\n"
    }
   }
  },
  {
   "cell_type": "code",
   "execution_count": null,
   "outputs": [],
   "source": [],
   "metadata": {
    "collapsed": false,
    "pycharm": {
     "name": "#%%\n"
    }
   }
  }
 ],
 "metadata": {
  "kernelspec": {
   "display_name": "Python 3",
   "language": "python",
   "name": "python3"
  },
  "language_info": {
   "codemirror_mode": {
    "name": "ipython",
    "version": 2
   },
   "file_extension": ".py",
   "mimetype": "text/x-python",
   "name": "python",
   "nbconvert_exporter": "python",
   "pygments_lexer": "ipython2",
   "version": "2.7.6"
  }
 },
 "nbformat": 4,
 "nbformat_minor": 0
}